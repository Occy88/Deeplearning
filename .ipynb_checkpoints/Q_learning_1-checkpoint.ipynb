{
 "cells": [
  {
   "cell_type": "markdown",
   "metadata": {},
   "source": [
    "# Q learning"
   ]
  },
  {
   "cell_type": "markdown",
   "metadata": {},
   "source": [
    "## Betting task: the strong-willed gambler in a casino, with the probability of winning a bet equal to $p$\n",
    "\n",
    "Rules of the game: at any time, you have a capital $x$ between 0 and $n$. $x$ is an integer.\n",
    "\n",
    "You are strong-willed: if your capital $x\\ge n$,  you leave the casino and you do not return. You keep your capital $x$, which is your final payoff. \n",
    "\n",
    "If $x=0$, then you have no more money, and you leave the casino with nothing. Your final payoff is 0. \n",
    "\n",
    "If $0 < x < n$, you bet. Your possible actions are to bet any integer amount between 1 and $x$, inclusive. you cannot bet more than you own, so your maximum bet is $x$.\n",
    "\n",
    "Let your bet be $a$, such that $1 \\le a \\le x$. \n",
    "\n",
    "If you win,your next state is $x+a$; if you lose, your next state (amount of capital) is $x-a$.  \n",
    "\n",
    "You win with probability $p$, which is fixed for the duration of your gambling session. \n",
    "\n",
    "Your expected next capital is therefore:\n",
    "\n",
    "$$E[x'] = p (x+a) + (1-p)(x-a) = x + (2p-1)a$$\n",
    "\n",
    "If $p< 1/2$, your expected next capital $x'$ is less than your current capital $x$: on average, you lose. But you can still leave the casino a winner if you are lucky.  What is your best betting policy for doing so? If your capital is $x$, what is the average amount of your final capital, if you follow an optimal policy? \n",
    "\n",
    "If $p>1/2$, the casino is generous, and on average pays you!  But you can still go bust and leave with zero if you are unlucky. Again, what is your best betting policy?\n",
    "\n",
    "Different casinos may have different values of $p$. What is your optimal $Q$ function, given $n$ (your strong-willed choice of when to leave the casino) and $p$, the probability of winning when you bet, which is a constant value in th casino?\n",
    "\n"
   ]
  },
  {
   "cell_type": "code",
   "execution_count": 1,
   "metadata": {},
   "outputs": [],
   "source": [
    "import numpy as np\n",
    "\n",
    "import matplotlib.pyplot as plt\n",
    "\n",
    "%matplotlib inline"
   ]
  },
  {
   "cell_type": "markdown",
   "metadata": {},
   "source": [
    "### The Cautious but Strong-Willed Gambler\n",
    "\n",
    "Suppose that you are a cautious person who likes to place small bets: you decide that you only feel comfortable betting 1 unit on each turn, until you either reach a wealth of $n$, or $0$.  What is your expected winnings with this policy? Is the optimal policy better? By how much? \n",
    "\n"
   ]
  },
  {
   "cell_type": "markdown",
   "metadata": {},
   "source": [
    "### Finding the optimal gambling policy"
   ]
  },
  {
   "cell_type": "code",
   "execution_count": 2,
   "metadata": {},
   "outputs": [],
   "source": [
    "def optimal_action(Q,x):\n",
    "    # finds the optimal \n",
    "    n = Q.shape[0]\n",
    "    if x <= 0:\n",
    "        return 0 # no bets possible with zero wealth\n",
    "    elif x >=n: \n",
    "        return 0 # game is over, gambler has left casino\n",
    "    else: \n",
    "        return np.argmax( Q[x,1:x+1]) + 1 # note that we have extracted a slice starting at index 1, so \n",
    "          # we need to add one to the index to retrieve the correct index within the Q matrix\n",
    "        \n",
    "def optimal_policy(Q):\n",
    "    # returns a list of optimal action in each state\n",
    "    n = Q.shape[0]\n",
    "    return [ optimal_action(Q,x) for x in range(0,n) ]\n"
   ]
  },
  {
   "cell_type": "code",
   "execution_count": 3,
   "metadata": {},
   "outputs": [],
   "source": [
    "\n",
    "def state_value( Q, x):\n",
    "    n = Q.shape[0]\n",
    "    assert x >= 0 \n",
    "    if x == 0: # all money lost\n",
    "        return 0 \n",
    "    elif  x >= n:\n",
    "        return x # the strong-willed gambler leaves the casino \n",
    "                # when wealth >= n \n",
    "    else:   \n",
    "        return np.max( Q[x,1:x+1]) # return the largest Q value for \n",
    "                            # the best action in the next state"
   ]
  },
  {
   "cell_type": "code",
   "execution_count": 4,
   "metadata": {},
   "outputs": [],
   "source": [
    "# Value iteration - apply all possible experiences once\n",
    "def value_iterate( Q, p=0.5):\n",
    "    n = Q.shape[0]\n",
    "    for x in range(1,n):\n",
    "        for a in range(1,x+1): # we can bet our entire fortune x on one throw\n",
    "            Q[x,a] = p * state_value(Q,x+a) + (1-p) * state_value(Q,x-a)"
   ]
  },
  {
   "cell_type": "code",
   "execution_count": 5,
   "metadata": {},
   "outputs": [],
   "source": [
    "n = 20\n",
    "p = 0.2\n",
    "# Q[x,a] is the Q value for wealth x and a bet of a\n",
    "\n",
    "# when x reaches n or above, the game is over and the final payoff is received\n",
    "Q = np.zeros([n,n])"
   ]
  },
  {
   "cell_type": "code",
   "execution_count": 6,
   "metadata": {},
   "outputs": [],
   "source": [
    "for i in range(0,100):\n",
    "    value_iterate(Q,p=p)"
   ]
  },
  {
   "cell_type": "code",
   "execution_count": 7,
   "metadata": {},
   "outputs": [
    {
     "data": {
      "text/plain": [
       "[<matplotlib.lines.Line2D at 0x7fde1165a3d0>]"
      ]
     },
     "execution_count": 7,
     "metadata": {},
     "output_type": "execute_result"
    },
    {
     "data": {
      "image/png": "[encoded data removed]",
      "text/plain": [
       "<Figure size 432x288 with 1 Axes>"
      ]
     },
     "metadata": {
      "needs_background": "light"
     },
     "output_type": "display_data"
    }
   ],
   "source": [
    "plt.plot(range(1,n),Q[n-1,1:])\n",
    "plt.plot(range(1,n-1),Q[n-2,1:n-1])"
   ]
  },
  {
   "cell_type": "markdown",
   "metadata": {},
   "source": [
    "You may find this graph quite confusing: the x axis is the size of the bet: the y axis is the optimal Q value for this bet, from the state you are in, which is $n-1$. \n",
    "\n",
    "Can you see intuitively why the Q value decreases for larger bets?  Can you see intuitively why the Q value starts to increase again, for very large bets? \n",
    "\n",
    "What should the Q value be for betting all of your capital: can you work this out directly by hand? "
   ]
  },
  {
   "cell_type": "code",
   "execution_count": 8,
   "metadata": {},
   "outputs": [
    {
     "data": {
      "text/plain": [
       "[<matplotlib.lines.Line2D at 0x7fde0f541190>]"
      ]
     },
     "execution_count": 8,
     "metadata": {},
     "output_type": "execute_result"
    },
    {
     "data": {
      "image/png": "[encoded data removed]",
      "text/plain": [
       "<Figure size 432x288 with 1 Axes>"
      ]
     },
     "metadata": {
      "needs_background": "light"
     },
     "output_type": "display_data"
    }
   ],
   "source": [
    "# Now plot the optimal values of states: that\n",
    "\n",
    "values = [ state_value(Q,x) for x in range(0,n+1)]\n",
    "\n",
    "plt.plot( range(0,n+1), values)"
   ]
  },
  {
   "cell_type": "code",
   "execution_count": 9,
   "metadata": {},
   "outputs": [
    {
     "data": {
      "text/plain": [
       "[<matplotlib.lines.Line2D at 0x7fde0f523e50>]"
      ]
     },
     "execution_count": 9,
     "metadata": {},
     "output_type": "execute_result"
    },
    {
     "data": {
      "image/png": "[encoded data removed]",
      "text/plain": [
       "<Figure size 432x288 with 1 Axes>"
      ]
     },
     "metadata": {
      "needs_background": "light"
     },
     "output_type": "display_data"
    }
   ],
   "source": [
    "policy = optimal_policy(Q)\n",
    "\n",
    "plt.plot( policy )"
   ]
  },
  {
   "cell_type": "markdown",
   "metadata": {},
   "source": [
    "### Q learning\n",
    "\n",
    "Now try Q learning. This formulation makes it clear that Q learning is a randomised form of value iteration. \n",
    "\n",
    "You may need a large number of trials to 'learn' a Q function close to the optimal one computed by value iteration. How many? \n",
    "\n",
    "This formulation of Q learning is 'off policy'.  Can you try to write an 'on policy' version (this will test your Python programming skills...) "
   ]
  },
  {
   "cell_type": "code",
   "execution_count": 10,
   "metadata": {},
   "outputs": [],
   "source": [
    "from random import randint\n",
    "\n",
    "n = 20\n",
    "p = 0.2\n",
    "# Q[x,a] is the Q value for wealth x and a bet of a\n",
    "\n",
    "# when x reaches n or above, the game is over and the final payoff is received\n",
    "Q = np.zeros([n,n])"
   ]
  },
  {
   "cell_type": "code",
   "execution_count": 11,
   "metadata": {},
   "outputs": [],
   "source": [
    "n_trials = 1000 # you will need to make this much larger\n",
    "\n",
    "learning_rate = 0.1 # start large, then make it smaller\n",
    "\n",
    "for i in range(0,n_trials):\n",
    "    x = randint(1,n-1)\n",
    "    a = randint(1,x)\n",
    "    if np.random.rand() < p:\n",
    "        xprime = x+a\n",
    "    else:\n",
    "        xprime = x-a   \n",
    "    Q[x,a] = (1-learning_rate)*Q[x,a] + learning_rate * state_value(Q,xprime)"
   ]
  },
  {
   "cell_type": "code",
   "execution_count": null,
   "metadata": {},
   "outputs": [],
   "source": []
  },
  {
   "cell_type": "code",
   "execution_count": null,
   "metadata": {},
   "outputs": [],
   "source": []
  }
 ],
 "metadata": {
  "kernelspec": {
   "display_name": "Python 3",
   "language": "python",
   "name": "python3"
  },
  "language_info": {
   "codemirror_mode": {
    "name": "ipython",
    "version": 3
   },
   "file_extension": ".py",
   "mimetype": "text/x-python",
   "name": "python",
   "nbconvert_exporter": "python",
   "pygments_lexer": "ipython3",
   "version": "3.8.5"
  }
 },
 "nbformat": 4,
 "nbformat_minor": 2
}
