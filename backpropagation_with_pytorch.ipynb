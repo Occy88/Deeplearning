{
 "cells": [
  {
   "cell_type": "markdown",
   "metadata": {},
   "source": [
    "# Neural nets with Back-Propagation, this time with Pytorch"
   ]
  },
  {
   "cell_type": "markdown",
   "metadata": {},
   "source": [
    "This notebook contains a complete implementation of a neural network this time implemented with Pytorch. \n",
    "\n",
    "I advise you to work through the notebook first, and seek to understand the code.  After that, go back to the places where I suggest activities, and try to implement these. \n",
    "\n",
    "AFTER GOING THROUGH THIS NOTEBOOK you will be ready to go to the textbooks by Smola or Howard, and work through the slightly more complicated implementations there.  (We will be doing MNIST and MNIST Fashion next week...) \n",
    "\n",
    "### Aims of this session: \n",
    "\n",
    "*  To understand how to implement a simple neural network in Pytorch \n",
    "\n",
    "*  To explore the structure of the Pytorch model, and examine the weights and the initialisation\n",
    "\n",
    "*  To explore many more variations of the network using Pytorch to greatly speed things up\n"
   ]
  },
  {
   "cell_type": "code",
   "execution_count": 20,
   "metadata": {},
   "outputs": [],
   "source": [
    "import numpy as np\n",
    "import torch"
   ]
  },
  {
   "cell_type": "code",
   "execution_count": 21,
   "metadata": {},
   "outputs": [],
   "source": [
    "import matplotlib.pyplot as plt\n",
    "# the next instruction makes the plots appear within the notebook\n",
    "%matplotlib inline"
   ]
  },
  {
   "cell_type": "markdown",
   "metadata": {},
   "source": [
    "First we want some data.\n",
    "\n",
    "Our data will be points in the plane. We will generate random points within a square, like so:  "
   ]
  },
  {
   "cell_type": "code",
   "execution_count": 22,
   "metadata": {},
   "outputs": [],
   "source": [
    "X = 2 * np.random.random((100,2)) - 1\n",
    "\n",
    "# you can re-run with more or fewer than 200 training data points "
   ]
  },
  {
   "cell_type": "code",
   "execution_count": 23,
   "metadata": {},
   "outputs": [
    {
     "data": {
      "text/plain": [
       "[<matplotlib.lines.Line2D at 0x16637a37fd0>]"
      ]
     },
     "execution_count": 23,
     "metadata": {},
     "output_type": "execute_result"
    },
    {
     "data": {
      "image/png": "[encoded data removed]",
      "text/plain": [
       "<Figure size 432x288 with 1 Axes>"
      ]
     },
     "metadata": {
      "needs_background": "light"
     },
     "output_type": "display_data"
    }
   ],
   "source": [
    "plt.plot(X[:,0],X[:,1],'.')"
   ]
  },
  {
   "cell_type": "code",
   "execution_count": 24,
   "metadata": {},
   "outputs": [],
   "source": [
    "def classifier2(X):\n",
    "    return (np.sum( X * X, axis=1) < 0.66 ).astype(float)"
   ]
  },
  {
   "cell_type": "code",
   "execution_count": 25,
   "metadata": {},
   "outputs": [],
   "source": [
    "def classifier3(X): # a 3x2 checkerboard pattern\n",
    "    return (( np.ceil((3/2)*(X[:,0]+1)).astype(int) + np.ceil( X[:,1]+1).astype(int) ) %2).astype(float)"
   ]
  },
  {
   "cell_type": "code",
   "execution_count": 26,
   "metadata": {},
   "outputs": [],
   "source": [
    "def classifier4(X): # a 4x4 checkerboard pattern -- you can use the same method to make up your own checkerboard patterns\n",
    "    return (np.sum( np.ceil( 2 * X).astype(int), axis=1 ) % 2).astype(float)"
   ]
  },
  {
   "cell_type": "code",
   "execution_count": 27,
   "metadata": {},
   "outputs": [],
   "source": [
    "Y = classifier3( X ) "
   ]
  },
  {
   "cell_type": "code",
   "execution_count": 28,
   "metadata": {},
   "outputs": [
    {
     "data": {
      "text/plain": [
       "[<matplotlib.lines.Line2D at 0x16637b37310>]"
      ]
     },
     "execution_count": 28,
     "metadata": {},
     "output_type": "execute_result"
    },
    {
     "data": {
      "image/png": "[encoded data removed]",
      "text/plain": [
       "<Figure size 432x288 with 1 Axes>"
      ]
     },
     "metadata": {
      "needs_background": "light"
     },
     "output_type": "display_data"
    }
   ],
   "source": [
    "plt.plot(X[Y==0.0,0],X[Y==0.0,1],'b.')\n",
    "plt.plot(X[Y==1.0,0],X[Y==1.0,1],'r.')"
   ]
  },
  {
   "cell_type": "code",
   "execution_count": 29,
   "metadata": {},
   "outputs": [
    {
     "data": {
      "text/plain": [
       "(100, 2)"
      ]
     },
     "execution_count": 29,
     "metadata": {},
     "output_type": "execute_result"
    }
   ],
   "source": [
    "X.shape"
   ]
  },
  {
   "cell_type": "code",
   "execution_count": 30,
   "metadata": {},
   "outputs": [
    {
     "data": {
      "text/plain": [
       "(100,)"
      ]
     },
     "execution_count": 30,
     "metadata": {},
     "output_type": "execute_result"
    }
   ],
   "source": [
    "Y.shape"
   ]
  },
  {
   "cell_type": "markdown",
   "metadata": {},
   "source": [
    "# Doing it with Pytorch"
   ]
  },
  {
   "cell_type": "markdown",
   "metadata": {},
   "source": [
    "Last week's program was a little painful: we had to construct the neural network and all of the gradients ourselves, and then check them. \n",
    "\n",
    "Is there an easier way? After all, many people have built neural networks before. \n"
   ]
  },
  {
   "cell_type": "code",
   "execution_count": 2,
   "metadata": {},
   "outputs": [],
   "source": [
    "import torch\n",
    "import torch.nn as nn  # various types of layers\n",
    "import torch.nn.functional as F  # activation functions, among other things"
   ]
  },
  {
   "cell_type": "code",
   "execution_count": 11,
   "metadata": {},
   "outputs": [],
   "source": [
    "class Net1( nn.Module ): \n",
    "    \n",
    "    def __init__(self):\n",
    "        super(Net1,self).__init__()\n",
    "        self.layer1 = nn.Linear(2,24)\n",
    "        self.layer2 = nn.Linear(24,1) # these automatically define the weights and biases for the layers\n",
    "        \n",
    "    def forward(self,x):\n",
    "        x = torch.relu(self.layer1(x))\n",
    "        x = torch.sigmoid(self.layer2(x))\n",
    "        return x "
   ]
  },
  {
   "cell_type": "code",
   "execution_count": 12,
   "metadata": {},
   "outputs": [
    {
     "name": "stdout",
     "output_type": "stream",
     "text": [
      "Net1(\n",
      "  (layer1): Linear(in_features=2, out_features=24, bias=True)\n",
      "  (layer2): Linear(in_features=24, out_features=1, bias=True)\n",
      ")\n"
     ]
    }
   ],
   "source": [
    "net1 = Net1()\n",
    "print( net1 )"
   ]
  },
  {
   "cell_type": "code",
   "execution_count": 13,
   "metadata": {},
   "outputs": [
    {
     "data": {
      "text/plain": [
       "<generator object Module.parameters at 0x0000016635D97270>"
      ]
     },
     "execution_count": 13,
     "metadata": {},
     "output_type": "execute_result"
    }
   ],
   "source": [
    "net1.parameters()"
   ]
  },
  {
   "cell_type": "code",
   "execution_count": 14,
   "metadata": {},
   "outputs": [
    {
     "data": {
      "text/plain": [
       "[Parameter containing:\n",
       " tensor([[ 0.6712, -0.0378],\n",
       "         [-0.2130,  0.5227],\n",
       "         [ 0.5424,  0.0640],\n",
       "         [-0.4445, -0.2502],\n",
       "         [ 0.0709,  0.0419],\n",
       "         [-0.0986, -0.5304],\n",
       "         [ 0.0335, -0.3458],\n",
       "         [-0.0539,  0.0782],\n",
       "         [ 0.6588, -0.2951],\n",
       "         [ 0.5467,  0.2379],\n",
       "         [-0.3221, -0.4409],\n",
       "         [-0.4262,  0.4549],\n",
       "         [-0.5560,  0.6941],\n",
       "         [-0.4680, -0.1833],\n",
       "         [ 0.2655,  0.5484],\n",
       "         [-0.0149, -0.3152],\n",
       "         [-0.0132, -0.1279],\n",
       "         [-0.1691, -0.3298],\n",
       "         [ 0.2519,  0.2939],\n",
       "         [-0.3418,  0.5011],\n",
       "         [ 0.3798,  0.3033],\n",
       "         [-0.5584,  0.1530],\n",
       "         [ 0.6620, -0.6774],\n",
       "         [ 0.2556,  0.0548]], requires_grad=True),\n",
       " Parameter containing:\n",
       " tensor([-0.1549,  0.5465,  0.2704, -0.1667, -0.0658, -0.0321,  0.3087, -0.0278,\n",
       "         -0.6722,  0.2140,  0.6592, -0.0148,  0.4160,  0.3238,  0.3647,  0.5528,\n",
       "         -0.4822,  0.0327, -0.3875, -0.3832,  0.2417, -0.0172, -0.5243,  0.3722],\n",
       "        requires_grad=True),\n",
       " Parameter containing:\n",
       " tensor([[ 0.1982,  0.0479,  0.0404, -0.0324,  0.0010, -0.1314,  0.0848,  0.1164,\n",
       "           0.1719, -0.1676, -0.0833, -0.0961, -0.1703, -0.1483,  0.1869, -0.0654,\n",
       "           0.0561,  0.1705,  0.0107, -0.1615, -0.0178,  0.0337,  0.0820,  0.1088]],\n",
       "        requires_grad=True),\n",
       " Parameter containing:\n",
       " tensor([-0.1045], requires_grad=True)]"
      ]
     },
     "execution_count": 14,
     "metadata": {},
     "output_type": "execute_result"
    }
   ],
   "source": [
    "list( net1.parameters() )"
   ]
  },
  {
   "cell_type": "markdown",
   "metadata": {},
   "source": [
    "That's it! That is our feedforward specification of our previous NN2layer model!\n",
    "All of the back-propagation will by compiled implicitly. "
   ]
  },
  {
   "cell_type": "code",
   "execution_count": 38,
   "metadata": {},
   "outputs": [],
   "source": [
    "X_tensor = torch.FloatTensor(X) # X is a double in numpy, we need float32\n",
    "X_tensor.dtype"
   ]
  },
  {
   "cell_type": "code",
   "execution_count": 41,
   "metadata": {},
   "outputs": [
    {
     "data": {
      "text/plain": [
       "torch.float32"
      ]
     },
     "execution_count": 41,
     "metadata": {},
     "output_type": "execute_result"
    }
   ],
   "source": [
    "Y_tensor = torch.FloatTensor(Y)\n",
    "Y_tensor.dtype"
   ]
  },
  {
   "cell_type": "code",
   "execution_count": 72,
   "metadata": {},
   "outputs": [
    {
     "data": {
      "text/plain": [
       "torch.Size([100, 1])"
      ]
     },
     "execution_count": 72,
     "metadata": {},
     "output_type": "execute_result"
    }
   ],
   "source": [
    "net1.zero_grad() # zero any gradients before doing forward pass \n",
    "output = net1(X_tensor)\n",
    "output.shape"
   ]
  },
  {
   "cell_type": "code",
   "execution_count": 46,
   "metadata": {},
   "outputs": [],
   "source": [
    "loss = nn.BCELoss()"
   ]
  },
  {
   "cell_type": "code",
   "execution_count": 62,
   "metadata": {},
   "outputs": [
    {
     "data": {
      "text/plain": [
       "torch.Size([100, 1])"
      ]
     },
     "execution_count": 62,
     "metadata": {},
     "output_type": "execute_result"
    }
   ],
   "source": [
    "output.shape"
   ]
  },
  {
   "cell_type": "markdown",
   "metadata": {},
   "source": [
    "The target values (Y) need to be the same shape as the output before we compute the average loss (this is why one needs to be careful about always knowing the shape of one's tensors). Let's reshape Y to be like the output, therefore. "
   ]
  },
  {
   "cell_type": "code",
   "execution_count": 59,
   "metadata": {},
   "outputs": [
    {
     "data": {
      "text/plain": [
       "torch.Size([100, 1])"
      ]
     },
     "execution_count": 59,
     "metadata": {},
     "output_type": "execute_result"
    }
   ],
   "source": [
    "Y_like_output = Y_tensor.reshape([100,1])\n",
    "Y_like_output.shape"
   ]
  },
  {
   "cell_type": "code",
   "execution_count": 73,
   "metadata": {},
   "outputs": [
    {
     "data": {
      "text/plain": [
       "tensor(0.6745, grad_fn=<BinaryCrossEntropyBackward>)"
      ]
     },
     "execution_count": 73,
     "metadata": {},
     "output_type": "execute_result"
    }
   ],
   "source": [
    "average_loss = loss( output, Y_like_output)\n",
    "average_loss "
   ]
  },
  {
   "cell_type": "code",
   "execution_count": 74,
   "metadata": {},
   "outputs": [],
   "source": [
    "average_loss.backward()"
   ]
  },
  {
   "cell_type": "markdown",
   "metadata": {},
   "source": [
    "Now what do we do with the gradients?  Instead of writing our own code to update the weights by gradient descent, we will use an Optimizer object, one of the ones provided by pytorch. RMSProp is a nice, stable choice.  \n",
    "\n",
    "This will take the parameters, with their attached gradients which have been calculated after `average_loss.backward()`, and then update the weights (sensibly) in the direction of the gradient. \n",
    "\n",
    "Let us first create the optimizer object."
   ]
  },
  {
   "cell_type": "code",
   "execution_count": 69,
   "metadata": {
    "jupyter": {
     "outputs_hidden": true
    }
   },
   "outputs": [],
   "source": [
    "optimizer = torch.optim.RMSprop( net1.parameters() )"
   ]
  },
  {
   "cell_type": "code",
   "execution_count": 75,
   "metadata": {},
   "outputs": [],
   "source": [
    "# now actually use the optimizer to update the weights\n",
    "optimizer.step()\n",
    "# that's it - the weights have been adjusted! We can train again... "
   ]
  },
  {
   "cell_type": "markdown",
   "metadata": {},
   "source": [
    "\n",
    "Well, we have just written our neural net, cell by cell. Let's gather all the code together, into two phases: setup and training. "
   ]
  },
  {
   "cell_type": "markdown",
   "metadata": {},
   "source": [
    "### Setting up the net"
   ]
  },
  {
   "cell_type": "code",
   "execution_count": 86,
   "metadata": {},
   "outputs": [],
   "source": [
    "# this defines our network as a subclass of nn.Module \n",
    "\n",
    "class Net1( nn.Module ): \n",
    "    \n",
    "    def __init__(self):\n",
    "        super(Net1,self).__init__()\n",
    "        self.layer1 = nn.Linear(2,24)\n",
    "        self.layer2 = nn.Linear(24,1) # these automatically define the weights and biases for the layers\n",
    "        \n",
    "    def forward(self,x):\n",
    "        x = torch.relu(self.layer1(x))\n",
    "        x = torch.sigmoid(self.layer2(x))\n",
    "        return x "
   ]
  },
  {
   "cell_type": "code",
   "execution_count": 87,
   "metadata": {},
   "outputs": [
    {
     "name": "stdout",
     "output_type": "stream",
     "text": [
      "Net1(\n",
      "  (layer1): Linear(in_features=2, out_features=24, bias=True)\n",
      "  (layer2): Linear(in_features=24, out_features=1, bias=True)\n",
      ")\n"
     ]
    }
   ],
   "source": [
    "# this creates a new instance of our neural network class\n",
    "# it is initialised with random weights, and it needs training\n",
    "\n",
    "net1 = Net1()\n",
    "print( net1 )"
   ]
  },
  {
   "cell_type": "code",
   "execution_count": 88,
   "metadata": {},
   "outputs": [],
   "source": [
    "# we also need to specify the loss function we will use \n",
    "# In this case, binary cross-entropy (suitable for 2 class classifaction using\n",
    "# the output of a sigmoid layer). \n",
    "\n",
    "loss_function = nn.BCELoss()"
   ]
  },
  {
   "cell_type": "code",
   "execution_count": 89,
   "metadata": {},
   "outputs": [],
   "source": [
    "# In order to train it, we construct an instance of an optimizer class \n",
    "# which contains our network's parameters (given as a generator)\n",
    "\n",
    "optimizer = torch.optim.RMSprop( net1.parameters() )"
   ]
  },
  {
   "cell_type": "markdown",
   "metadata": {},
   "source": [
    "### Training the net"
   ]
  },
  {
   "cell_type": "markdown",
   "metadata": {},
   "source": [
    " Our training data is `X_tensor` (the inputs) and `Y_like_outpu`t ( the target classifications that we want our network to achieve).\n",
    " \n",
    " We reshaped `Y_like_output` to have the same shape as the output of our network (a little trial and error there...) "
   ]
  },
  {
   "cell_type": "code",
   "execution_count": 90,
   "metadata": {},
   "outputs": [],
   "source": [
    "n_epochs = 20"
   ]
  },
  {
   "cell_type": "code",
   "execution_count": 120,
   "metadata": {},
   "outputs": [
    {
     "name": "stdout",
     "output_type": "stream",
     "text": [
      "0 0.05875313654541969\n",
      "1 0.05846165120601654\n",
      "2 0.058308277279138565\n",
      "3 0.05805863067507744\n",
      "4 0.057751189917325974\n",
      "5 0.05749266594648361\n",
      "6 0.05718951299786568\n",
      "7 0.056875552982091904\n",
      "8 0.05666082352399826\n",
      "9 0.05636802688241005\n",
      "10 0.05618526414036751\n",
      "11 0.05594940111041069\n",
      "12 0.05562141537666321\n",
      "13 0.055344581604003906\n",
      "14 0.05511494725942612\n",
      "15 0.05484359711408615\n",
      "16 0.05459995195269585\n",
      "17 0.054469332098960876\n",
      "18 0.05430332198739052\n",
      "19 0.053959015756845474\n"
     ]
    }
   ],
   "source": [
    "for i in range(0,n_epochs): \n",
    "\n",
    "    net1.zero_grad() # zero all gradients in the network\n",
    "    # before doing back-propagation\n",
    "    # It is important to remember to zero the gradients, \n",
    "    # otherwise the gradients will \n",
    "    # just accumulate. \n",
    "    \n",
    "    output = net1( X_tensor )\n",
    "    \n",
    "    average_loss = loss_function( output, Y_like_output)\n",
    "    \n",
    "    print(i, average_loss.item()) # important to see what is happening\n",
    "    # average_loss is a zero-dimensional tensor; to convert it to a number \n",
    "    # we cannot index, but instead we do average_loss.item() \n",
    "    \n",
    "    average_loss.backward() # this computes all our gradients :) \n",
    "    \n",
    "    optimizer.step() # this updates the weights :) "
   ]
  },
  {
   "cell_type": "code",
   "execution_count": 106,
   "metadata": {},
   "outputs": [],
   "source": [
    "def plot_nn_predictions( net1 ):\n",
    "    x_values = np.linspace(-1,1,200)\n",
    "    y_values = np.linspace(-1,1,200)\n",
    "    \n",
    "# challenge: this function is rather slow because the  model is being used to make one prediction at a time. \n",
    "# This incurs quite a large overhead: it is more efficient to make many predictions at once. Can you modify this \n",
    "# function to do this? \n",
    "\n",
    "# Now, can you rewrite the function so that you put in the whole grid of points as an input array to kerasmodel.predict(), \n",
    "# so that you only make one call net1 ? (This is an exercise in figuring out \n",
    "# the shapes of your tensors, and converting a torch tensor to a numpy array\n",
    "# that matplotlib can use)\n",
    "\n",
    "    J_grid = np.zeros([x_values.size,y_values.size])\n",
    "    \n",
    "    \n",
    "    # We do something interesting here.  \n",
    "    # We are not By calling torch.no_grad() \n",
    "    # we prevent pytorch from \n",
    "    with torch.no_grad(): \n",
    "        for x_index in range(0, x_values.size):\n",
    "            for y_index in range(0, y_values.size):\n",
    "                predicted_y_tensor =net1(torch.FloatTensor([x_values[x_index], y_values[y_index]]))\n",
    "                J_grid[x_index,y_index] = predicted_y_tensor.item()\n",
    "        \n",
    "    plt.imshow(J_grid.transpose(), origin='lower',extent=[-1,1,-1,1])\n",
    "    plt.colorbar()                                               "
   ]
  },
  {
   "cell_type": "code",
   "execution_count": 121,
   "metadata": {},
   "outputs": [
    {
     "data": {
      "text/plain": [
       "[<matplotlib.lines.Line2D at 0x166386d5a00>]"
      ]
     },
     "execution_count": 121,
     "metadata": {},
     "output_type": "execute_result"
    },
    {
     "data": {
      "image/png": "[encoded data removed]",
      "text/plain": [
       "<Figure size 432x288 with 2 Axes>"
      ]
     },
     "metadata": {
      "needs_background": "light"
     },
     "output_type": "display_data"
    }
   ],
   "source": [
    "plot_nn_predictions(net1)\n",
    "\n",
    "plt.plot(X[Y==0.0,0],X[Y==0.0,1],'b.')\n",
    "plt.plot(X[Y==1.0,0],X[Y==1.0,1],'r.')"
   ]
  },
  {
   "cell_type": "markdown",
   "metadata": {},
   "source": [
    "Exercise: do a 3D plot? That would be fun..."
   ]
  },
  {
   "cell_type": "markdown",
   "metadata": {},
   "source": [
    "### How can we examine the weights and the gradients? \n",
    "\n",
    "Simple !  We can extract them from the neural network. \n",
    "\n",
    "Our network `net1` has two inputs, 24 neurons in the first layer, and 1 neuron in the output layer. \n",
    "\n",
    "The first layer is called `layer1` and the second `layer2` (go back and look at the definition of the class `Net1`)"
   ]
  },
  {
   "cell_type": "code",
   "execution_count": 122,
   "metadata": {},
   "outputs": [
    {
     "data": {
      "text/plain": [
       "Linear(in_features=2, out_features=24, bias=True)"
      ]
     },
     "execution_count": 122,
     "metadata": {},
     "output_type": "execute_result"
    }
   ],
   "source": [
    "net1.layer1"
   ]
  },
  {
   "cell_type": "code",
   "execution_count": 124,
   "metadata": {},
   "outputs": [
    {
     "data": {
      "text/plain": [
       "Parameter containing:\n",
       "tensor([[ 0.5096, -0.1250],\n",
       "        [ 3.7675, -2.1211],\n",
       "        [-0.0406,  0.4999],\n",
       "        [-0.0639,  0.7789],\n",
       "        [-3.5117,  2.4813],\n",
       "        [-2.0918,  1.6753],\n",
       "        [-0.0747,  0.9027],\n",
       "        [-0.2685, -0.0373],\n",
       "        [-3.1776, -1.9659],\n",
       "        [ 0.3369, -0.3208],\n",
       "        [ 0.6030, -1.8530],\n",
       "        [ 4.1451,  1.4651],\n",
       "        [-0.1114,  1.4126],\n",
       "        [-0.4070,  0.0733],\n",
       "        [ 0.1043, -0.2804],\n",
       "        [-2.7007,  2.6636],\n",
       "        [-2.0128,  2.0280],\n",
       "        [-3.1697, -1.9690],\n",
       "        [-0.2269,  0.0944],\n",
       "        [-0.0282, -2.9291],\n",
       "        [-3.2707, -2.0125],\n",
       "        [ 0.0220, -2.6449],\n",
       "        [-4.6015, -2.8669],\n",
       "        [-3.7558,  2.6513]], requires_grad=True)"
      ]
     },
     "execution_count": 124,
     "metadata": {},
     "output_type": "execute_result"
    }
   ],
   "source": [
    "net1.layer1.weight"
   ]
  },
  {
   "cell_type": "code",
   "execution_count": 128,
   "metadata": {},
   "outputs": [
    {
     "data": {
      "text/plain": [
       "array([[ 0.50956136, -0.1249634 ],\n",
       "       [ 3.7674859 , -2.1210942 ],\n",
       "       [-0.04057133,  0.49994832],\n",
       "       [-0.06386025,  0.778899  ],\n",
       "       [-3.511651  ,  2.4813027 ],\n",
       "       [-2.0918016 ,  1.6752733 ],\n",
       "       [-0.07468221,  0.9026999 ],\n",
       "       [-0.2684856 , -0.03727789],\n",
       "       [-3.177579  , -1.9659224 ],\n",
       "       [ 0.3368976 , -0.32080573],\n",
       "       [ 0.60300946, -1.8530098 ],\n",
       "       [ 4.1451106 ,  1.4651147 ],\n",
       "       [-0.11136021,  1.4126244 ],\n",
       "       [-0.40697005,  0.07333457],\n",
       "       [ 0.10427511, -0.28044492],\n",
       "       [-2.700681  ,  2.6635535 ],\n",
       "       [-2.0127587 ,  2.027983  ],\n",
       "       [-3.1697178 , -1.9690282 ],\n",
       "       [-0.22686198,  0.09441966],\n",
       "       [-0.02822177, -2.9291253 ],\n",
       "       [-3.2707183 , -2.0124528 ],\n",
       "       [ 0.02196269, -2.6449463 ],\n",
       "       [-4.6014714 , -2.8668642 ],\n",
       "       [-3.7558024 ,  2.6513252 ]], dtype=float32)"
      ]
     },
     "execution_count": 128,
     "metadata": {},
     "output_type": "execute_result"
    }
   ],
   "source": [
    "# a small complication here. We want to convert the weight tensor to \n",
    "# a numpy array, but it has gradients attached. If requires_gradient is True, \n",
    "# we must use .detach().numpy() instead of just .numpy()\n",
    "\n",
    "layer1_weights = net1.layer1.weight.detach().numpy()\n",
    "layer1_weights"
   ]
  },
  {
   "cell_type": "code",
   "execution_count": 138,
   "metadata": {},
   "outputs": [
    {
     "data": {
      "text/plain": [
       "array([[ 0.0000000e+00,  0.0000000e+00],\n",
       "       [-1.6965461e-04, -1.4525960e-03],\n",
       "       [ 7.9836740e-05,  2.5116955e-05],\n",
       "       [ 2.6137580e-04, -1.3714517e-04],\n",
       "       [ 6.1362726e-03, -2.0306210e-03],\n",
       "       [-1.2462145e-03, -2.1953043e-04],\n",
       "       [ 1.7279403e-04,  2.9815834e-05],\n",
       "       [ 0.0000000e+00,  0.0000000e+00],\n",
       "       [-3.1840312e-03, -1.9106120e-03],\n",
       "       [ 0.0000000e+00,  0.0000000e+00],\n",
       "       [ 7.8731508e-04,  5.9226179e-04],\n",
       "       [-5.4780329e-03,  1.2385496e-04],\n",
       "       [ 3.8870279e-04,  6.7071174e-05],\n",
       "       [ 0.0000000e+00,  0.0000000e+00],\n",
       "       [ 0.0000000e+00,  0.0000000e+00],\n",
       "       [-1.4111552e-03, -2.3885176e-04],\n",
       "       [-1.3048410e-03,  8.0088386e-05],\n",
       "       [-3.5966965e-03, -1.7658003e-03],\n",
       "       [ 0.0000000e+00,  0.0000000e+00],\n",
       "       [-6.7086681e-04, -4.1316159e-04],\n",
       "       [-3.0244556e-03, -1.8148582e-03],\n",
       "       [ 1.5667472e-03,  5.5009252e-03],\n",
       "       [ 6.1765439e-03,  3.1174331e-03],\n",
       "       [ 5.9669139e-03, -1.9745769e-03]], dtype=float32)"
      ]
     },
     "execution_count": 138,
     "metadata": {},
     "output_type": "execute_result"
    }
   ],
   "source": [
    "# we don't need to use detach for the gradients because the gradients are a \n",
    "# pure tensor. \n",
    "\n",
    "layer1_gradients = net1.layer1.weight.grad.numpy()\n",
    "layer1_gradients"
   ]
  },
  {
   "cell_type": "code",
   "execution_count": 132,
   "metadata": {},
   "outputs": [
    {
     "data": {
      "text/plain": [
       "(array([ 3.,  8.,  6., 17.,  7.,  5.,  2.]),\n",
       " array([-4.6014714 , -3.3519597 , -2.102448  , -0.85293627,  0.39657545,\n",
       "         1.6460872 ,  2.895599  ,  4.1451106 ], dtype=float32),\n",
       " <BarContainer object of 7 artists>)"
      ]
     },
     "execution_count": 132,
     "metadata": {},
     "output_type": "execute_result"
    },
    {
     "data": {
      "image/png": "[encoded data removed]",
      "text/plain": [
       "<Figure size 432x288 with 1 Axes>"
      ]
     },
     "metadata": {
      "needs_background": "light"
     },
     "output_type": "display_data"
    }
   ],
   "source": [
    "n_bins = 7\n",
    "plt.hist( layer1_weights.reshape(-1), n_bins )"
   ]
  },
  {
   "cell_type": "code",
   "execution_count": 139,
   "metadata": {},
   "outputs": [
    {
     "data": {
      "text/plain": [
       "(array([ 1.,  3., 10., 28.,  1.,  1.,  4.]),\n",
       " array([-0.00547803, -0.00381309, -0.00214815, -0.00048321,  0.00118173,\n",
       "         0.00284666,  0.0045116 ,  0.00617654], dtype=float32),\n",
       " <BarContainer object of 7 artists>)"
      ]
     },
     "execution_count": 139,
     "metadata": {},
     "output_type": "execute_result"
    },
    {
     "data": {
      "image/png": "[encoded data removed]",
      "text/plain": [
       "<Figure size 432x288 with 1 Axes>"
      ]
     },
     "metadata": {
      "needs_background": "light"
     },
     "output_type": "display_data"
    }
   ],
   "source": [
    "n_bins = 7 \n",
    "plt.hist( layer1_gradients.reshape(-1), n_bins )"
   ]
  },
  {
   "cell_type": "code",
   "execution_count": null,
   "metadata": {},
   "outputs": [],
   "source": []
  },
  {
   "cell_type": "markdown",
   "metadata": {},
   "source": [
    "# More exercises: vary the network and explore the effects"
   ]
  },
  {
   "cell_type": "markdown",
   "metadata": {},
   "source": [
    "Your task in this lab is to explore as many variations as possible using Keras. \n",
    "\n",
    "Try adding more layers, with larger numbers of neurons. What happens? \n",
    "\n",
    "Try using different types of activation function. What is the effect of, say, tanh or sigmoid as opposed to relu?  \n",
    "\n",
    "Try using more data, with more complicated definitions of y (in particular, try using classifier4, or make up your own)\n",
    "\n",
    "Plot the statistics on training and validation loss and accuracy, obtained from history.history\n",
    "\n",
    "Compare the rates of learning of different network architectures. "
   ]
  },
  {
   "cell_type": "code",
   "execution_count": null,
   "metadata": {},
   "outputs": [],
   "source": []
  }
 ],
 "metadata": {
  "kernelspec": {
   "display_name": "Python 3",
   "language": "python",
   "name": "python3"
  },
  "language_info": {
   "codemirror_mode": {
    "name": "ipython",
    "version": 3
   },
   "file_extension": ".py",
   "mimetype": "text/x-python",
   "name": "python",
   "nbconvert_exporter": "python",
   "pygments_lexer": "ipython3",
   "version": "3.8.5"
  },
  "latex_envs": {
   "LaTeX_envs_menu_present": true,
   "autoclose": false,
   "autocomplete": true,
   "bibliofile": "biblio.bib",
   "cite_by": "apalike",
   "current_citInitial": 1,
   "eqLabelWithNumbers": true,
   "eqNumInitial": 1,
   "hotkeys": {
    "equation": "Ctrl-E",
    "itemize": "Ctrl-I"
   },
   "labels_anchors": false,
   "latex_user_defs": false,
   "report_style_numbering": false,
   "user_envs_cfg": false
  }
 },
 "nbformat": 4,
 "nbformat_minor": 4
}
